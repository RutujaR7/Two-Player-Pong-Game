{
 "cells": [
  {
   "cell_type": "code",
   "execution_count": 3,
   "id": "e428e1a5",
   "metadata": {},
   "outputs": [
    {
     "name": "stdout",
     "output_type": "stream",
     "text": [
      "pygame 2.5.2 (SDL 2.28.3, Python 3.9.7)\n",
      "Hello from the pygame community. https://www.pygame.org/contribute.html\n"
     ]
    },
    {
     "ename": "SystemExit",
     "evalue": "",
     "output_type": "error",
     "traceback": [
      "An exception has occurred, use %tb to see the full traceback.\n",
      "\u001b[1;31mSystemExit\u001b[0m\n"
     ]
    },
    {
     "name": "stderr",
     "output_type": "stream",
     "text": [
      "C:\\Users\\Rutuja Raut\\anaconda3\\lib\\site-packages\\IPython\\core\\interactiveshell.py:3452: UserWarning: To exit: use 'exit', 'quit', or Ctrl-D.\n",
      "  warn(\"To exit: use 'exit', 'quit', or Ctrl-D.\", stacklevel=1)\n"
     ]
    }
   ],
   "source": [
    "# pong_game.py\n",
    "import pygame\n",
    "import sys\n",
    "\n",
    "pygame.init()\n",
    "\n",
    "# Screen dimensions\n",
    "WIDTH, HEIGHT = 800, 600\n",
    "WIN = pygame.display.set_mode((WIDTH, HEIGHT))\n",
    "pygame.display.set_caption(\"Pong Game\")\n",
    "\n",
    "# Colors\n",
    "WHITE = (255, 255, 255)\n",
    "BLACK = (0, 0, 0)\n",
    "\n",
    "# Game variables\n",
    "PADDLE_WIDTH, PADDLE_HEIGHT = 20, 100\n",
    "BALL_RADIUS = 7\n",
    "FPS = 60\n",
    "PADDLE_SPEED = 5\n",
    "BALL_SPEED_X, BALL_SPEED_Y = 5, 5\n",
    "\n",
    "# Paddles and Ball\n",
    "left_paddle = pygame.Rect(10, HEIGHT // 2 - PADDLE_HEIGHT // 2, PADDLE_WIDTH, PADDLE_HEIGHT)\n",
    "right_paddle = pygame.Rect(WIDTH - 30, HEIGHT // 2 - PADDLE_HEIGHT // 2, PADDLE_WIDTH, PADDLE_HEIGHT)\n",
    "ball = pygame.Rect(WIDTH // 2 - BALL_RADIUS, HEIGHT // 2 - BALL_RADIUS, BALL_RADIUS * 2, BALL_RADIUS * 2)\n",
    "\n",
    "left_score, right_score = 0, 0\n",
    "font = pygame.font.SysFont(\"comicsans\", 50)\n",
    "\n",
    "def draw():\n",
    "    WIN.fill(BLACK)\n",
    "    pygame.draw.rect(WIN, WHITE, left_paddle)\n",
    "    pygame.draw.rect(WIN, WHITE, right_paddle)\n",
    "    pygame.draw.ellipse(WIN, WHITE, ball)\n",
    "    pygame.draw.aaline(WIN, WHITE, (WIDTH // 2, 0), (WIDTH // 2, HEIGHT))\n",
    "    \n",
    "    left_text = font.render(f\"{left_score}\", True, WHITE)\n",
    "    right_text = font.render(f\"{right_score}\", True, WHITE)\n",
    "    WIN.blit(left_text, (WIDTH // 4 - left_text.get_width() // 2, 20))\n",
    "    WIN.blit(right_text, (WIDTH * 3 // 4 - right_text.get_width() // 2, 20))\n",
    "    \n",
    "    pygame.display.flip()\n",
    "\n",
    "def handle_movement(keys):\n",
    "    if keys[pygame.K_w] and left_paddle.top > 0:\n",
    "        left_paddle.y -= PADDLE_SPEED\n",
    "    if keys[pygame.K_s] and left_paddle.bottom < HEIGHT:\n",
    "        left_paddle.y += PADDLE_SPEED\n",
    "    if keys[pygame.K_UP] and right_paddle.top > 0:\n",
    "        right_paddle.y -= PADDLE_SPEED\n",
    "    if keys[pygame.K_DOWN] and right_paddle.bottom < HEIGHT:\n",
    "        right_paddle.y += PADDLE_SPEED\n",
    "\n",
    "def handle_ball():\n",
    "    global BALL_SPEED_X, BALL_SPEED_Y, left_score, right_score\n",
    "    ball.x += BALL_SPEED_X\n",
    "    ball.y += BALL_SPEED_Y\n",
    "\n",
    "    if ball.top <= 0 or ball.bottom >= HEIGHT:\n",
    "        BALL_SPEED_Y *= -1\n",
    "    \n",
    "    if ball.colliderect(left_paddle) or ball.colliderect(right_paddle):\n",
    "        BALL_SPEED_X *= -1\n",
    "    \n",
    "    if ball.left <= 0:\n",
    "        right_score += 1\n",
    "        reset_ball()\n",
    "    if ball.right >= WIDTH:\n",
    "        left_score += 1\n",
    "        reset_ball()\n",
    "\n",
    "def reset_ball():\n",
    "    global BALL_SPEED_X, BALL_SPEED_Y\n",
    "    ball.x = WIDTH // 2 - BALL_RADIUS\n",
    "    ball.y = HEIGHT // 2 - BALL_RADIUS\n",
    "    BALL_SPEED_X *= -1\n",
    "\n",
    "def main():\n",
    "    clock = pygame.time.Clock()\n",
    "    run = True\n",
    "    while run:\n",
    "        clock.tick(FPS)\n",
    "        for event in pygame.event.get():\n",
    "            if event.type == pygame.QUIT:\n",
    "                run = False\n",
    "        \n",
    "        keys = pygame.key.get_pressed()\n",
    "        handle_movement(keys)\n",
    "        handle_ball()\n",
    "        draw()\n",
    "    \n",
    "    pygame.quit()\n",
    "    sys.exit()\n",
    "\n",
    "if __name__ == \"__main__\":\n",
    "    main()\n"
   ]
  },
  {
   "cell_type": "code",
   "execution_count": null,
   "id": "417e3445",
   "metadata": {},
   "outputs": [],
   "source": []
  }
 ],
 "metadata": {
  "kernelspec": {
   "display_name": "Python 3 (ipykernel)",
   "language": "python",
   "name": "python3"
  },
  "language_info": {
   "codemirror_mode": {
    "name": "ipython",
    "version": 3
   },
   "file_extension": ".py",
   "mimetype": "text/x-python",
   "name": "python",
   "nbconvert_exporter": "python",
   "pygments_lexer": "ipython3",
   "version": "3.9.7"
  }
 },
 "nbformat": 4,
 "nbformat_minor": 5
}
